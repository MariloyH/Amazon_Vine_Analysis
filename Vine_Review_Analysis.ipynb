{
  "cells": [
    {
      "cell_type": "code",
      "execution_count": 1,
      "metadata": {
        "colab": {
          "base_uri": "https://localhost:8080/"
        },
        "id": "POAUfSLHbCLr",
        "outputId": "62bb19b7-5ae0-454c-bccb-b62617ecda0d"
      },
      "outputs": [
        {
          "output_type": "stream",
          "name": "stdout",
          "text": [
            "\r0% [Working]\r            \rGet:1 http://security.ubuntu.com/ubuntu bionic-security InRelease [88.7 kB]\n",
            "\r0% [Connecting to archive.ubuntu.com (185.125.190.36)] [1 InRelease 0 B/88.7 kB\r                                                                               \rHit:2 https://developer.download.nvidia.com/compute/cuda/repos/ubuntu1804/x86_64  InRelease\n",
            "Hit:3 http://archive.ubuntu.com/ubuntu bionic InRelease\n",
            "Ign:4 https://developer.download.nvidia.com/compute/machine-learning/repos/ubuntu1804/x86_64  InRelease\n",
            "Hit:5 http://ppa.launchpad.net/c2d4u.team/c2d4u4.0+/ubuntu bionic InRelease\n",
            "Hit:6 https://developer.download.nvidia.com/compute/machine-learning/repos/ubuntu1804/x86_64  Release\n",
            "Get:7 http://archive.ubuntu.com/ubuntu bionic-updates InRelease [88.7 kB]\n",
            "Hit:8 https://cloud.r-project.org/bin/linux/ubuntu bionic-cran40/ InRelease\n",
            "Hit:9 http://ppa.launchpad.net/cran/libgit2/ubuntu bionic InRelease\n",
            "Get:10 http://archive.ubuntu.com/ubuntu bionic-backports InRelease [74.6 kB]\n",
            "Hit:11 http://ppa.launchpad.net/deadsnakes/ppa/ubuntu bionic InRelease\n",
            "Hit:12 http://ppa.launchpad.net/graphics-drivers/ppa/ubuntu bionic InRelease\n",
            "Fetched 252 kB in 7s (34.0 kB/s)\n",
            "Reading package lists... Done\n"
          ]
        }
      ],
      "source": [
        "import os\n",
        "# Find the latest version of spark 3.0 from http://www.apache.org/dist/spark/ and enter as the spark version\n",
        "# For example: version = 'spark-3.0.3'\n",
        "spark_version = 'spark-3.2.2'\n",
        "os.environ['SPARK_VERSION']=spark_version\n",
        "\n",
        "# Install Spark and Java\n",
        "!apt-get update\n",
        "!apt-get install openjdk-11-jdk-headless -qq > /dev/null\n",
        "!wget -q http://www.apache.org/dist/spark/$SPARK_VERSION/$SPARK_VERSION-bin-hadoop2.7.tgz\n",
        "!tar xf $SPARK_VERSION-bin-hadoop2.7.tgz\n",
        "!pip install -q findspark\n",
        "\n",
        "# Set Environment Variables\n",
        "import os\n",
        "os.environ[\"JAVA_HOME\"] = \"/usr/lib/jvm/java-11-openjdk-amd64\"\n",
        "os.environ[\"SPARK_HOME\"] = f\"/content/{spark_version}-bin-hadoop2.7\"\n",
        "\n",
        "# Start a SparkSession\n",
        "import findspark\n",
        "findspark.init()"
      ]
    },
    {
      "cell_type": "code",
      "execution_count": 2,
      "metadata": {
        "colab": {
          "base_uri": "https://localhost:8080/"
        },
        "id": "NpBT28aMbJ3_",
        "outputId": "7fd1d38d-7a09-44e6-c534-443b6cf0260c"
      },
      "outputs": [
        {
          "output_type": "stream",
          "name": "stdout",
          "text": [
            "--2022-07-24 23:38:54--  https://jdbc.postgresql.org/download/postgresql-42.2.16.jar\n",
            "Resolving jdbc.postgresql.org (jdbc.postgresql.org)... 72.32.157.228, 2001:4800:3e1:1::228\n",
            "Connecting to jdbc.postgresql.org (jdbc.postgresql.org)|72.32.157.228|:443... connected.\n",
            "HTTP request sent, awaiting response... 200 OK\n",
            "Length: 1002883 (979K) [application/java-archive]\n",
            "Saving to: ‘postgresql-42.2.16.jar.2’\n",
            "\n",
            "postgresql-42.2.16. 100%[===================>] 979.38K  --.-KB/s    in 0.1s    \n",
            "\n",
            "2022-07-24 23:38:55 (6.59 MB/s) - ‘postgresql-42.2.16.jar.2’ saved [1002883/1002883]\n",
            "\n"
          ]
        }
      ],
      "source": [
        "# Download the Postgres driver that will allow Spark to interact with Postgres.\n",
        "!wget https://jdbc.postgresql.org/download/postgresql-42.2.16.jar"
      ]
    },
    {
      "cell_type": "code",
      "execution_count": 3,
      "metadata": {
        "id": "zj8eltOEbJ7V"
      },
      "outputs": [],
      "source": [
        "from pyspark.sql import SparkSession\n",
        "spark = SparkSession.builder.appName(\"M16-Amazon-Challenge\").config(\"spark.driver.extraClassPath\",\"/content/postgresql-42.2.16.jar\").getOrCreate()"
      ]
    },
    {
      "cell_type": "code",
      "execution_count": 4,
      "metadata": {
        "colab": {
          "base_uri": "https://localhost:8080/",
          "height": 133
        },
        "id": "HQzhtgAobJ-f",
        "outputId": "1ae668fc-23f4-44b0-fad0-fd130e1cf5b3"
      },
      "outputs": [
        {
          "output_type": "error",
          "ename": "SyntaxError",
          "evalue": "ignored",
          "traceback": [
            "\u001b[0;36m  File \u001b[0;32m\"<ipython-input-4-05be6e1d0fe8>\"\u001b[0;36m, line \u001b[0;32m3\u001b[0m\n\u001b[0;31m    url = \"https://s3.amazonaws.com/amazon-reviews-pds/tsv/amazon_reviews_us_Pet_Products_v1_00.tsv.gz\"\"\u001b[0m\n\u001b[0m                                                                                                        ^\u001b[0m\n\u001b[0;31mSyntaxError\u001b[0m\u001b[0;31m:\u001b[0m EOL while scanning string literal\n"
          ]
        }
      ],
      "source": [
        "from pyspark import SparkFiles\n",
        "\n",
        "url = \"https://s3.amazonaws.com/amazon-reviews-pds/tsv/amazon_reviews_us_Pet_Products_v1_00.tsv.gz\"\"\n",
        "\n",
        "spark.sparkContext.addFile(url)\n",
        "df = spark.read.option(\"encoding\", \"UTF-8\").csv(SparkFiles.get(\"\"), sep=\"\\t\", header=True, inferSchema=True)\n",
        "df.show()"
      ]
    },
    {
      "cell_type": "code",
      "execution_count": null,
      "metadata": {
        "id": "GXQm4XzibKBl"
      },
      "outputs": [],
      "source": [
        "df.printSchema()\n"
      ]
    },
    {
      "cell_type": "markdown",
      "metadata": {
        "id": "hRHygv6JbpjE"
      },
      "source": [
        "Create DataFrames to match tables"
      ]
    },
    {
      "cell_type": "code",
      "execution_count": null,
      "metadata": {
        "id": "dEc6lkBFbKEs"
      },
      "outputs": [],
      "source": [
        "from pyspark.sql.functions import to_date\n",
        "# Read in the Review dataset as a DataFrame"
      ]
    },
    {
      "cell_type": "code",
      "execution_count": null,
      "metadata": {
        "id": "_FYCQIqObkTc"
      },
      "outputs": [],
      "source": [
        "# Create the vine_table. DataFrame\n",
        "vine_df = df.select([\"review_id\", \"star_rating\", \"helpful_votes\", \"total_votes\", \"vine\", \"verified_purchase\"])\n",
        "vine_df.show()"
      ]
    },
    {
      "cell_type": "code",
      "execution_count": null,
      "metadata": {
        "id": "20YSNwL5sQqs"
      },
      "outputs": [],
      "source": [
        "# filter()is the transformation and show ()is the action\n",
        "# 1. Filter the data and create a new DataFrame or table to retrieve all the rows where the total_votes count \n",
        "# is equal to or greater than 20 to pick reviews that are more likely to be helpful and to avoid having \n",
        "# division by zero errors later on\n",
        "review_df = vine_df.filter (\"total_votes >= 20\")\n",
        "review_df.show(5)"
      ]
    },
    {
      "cell_type": "code",
      "execution_count": null,
      "metadata": {
        "id": "PfZWKFa0sQuU"
      },
      "outputs": [],
      "source": [
        "# 2. Step 1 and create a new DataFrame or table to retrieve all the rows where the number of helpful_votes \n",
        "# divided by total_votes is equal to or greater than 50%.\n",
        "pos_votes_df = review_df.filter (\"(helpful_votes /total_votes) >= .5\")\n",
        "pos_votes_df.show(5)"
      ]
    },
    {
      "cell_type": "code",
      "execution_count": null,
      "metadata": {
        "id": "68UwJpegsQxc"
      },
      "outputs": [],
      "source": [
        "# 3. Filter the DataFrame or table created in Step 2, and create a new DataFrame or table \n",
        "# that retrieves all the rows where a review was written as part of the Vine program (paid),\n",
        "paid_votes_df = pos_votes_df.filter (\"vine=='Y'\")\n",
        "paid_votes_df.show(5)"
      ]
    },
    {
      "cell_type": "code",
      "execution_count": null,
      "metadata": {
        "id": "C29EDpzZsQ3b"
      },
      "outputs": [],
      "source": [
        "# 3. Filter the DataFrame or table created in Step 2, and create a new DataFrame or table \n",
        "# that retrieves all the rows where a review was written as part of the Vine program (nopaid),\n",
        "nopaid_votes_df = pos_votes_df.filter (\"vine=='N'\")\n",
        "nopaid_votes_df.show(5)"
      ]
    },
    {
      "cell_type": "code",
      "execution_count": null,
      "metadata": {
        "id": "wvZQ6ClQ05hr"
      },
      "outputs": [],
      "source": [
        "# The total number of reviews, the number of 5-star reviews, and the percentage 5-star reviews are calculated \n",
        "#for all Vine and non-Vine reviews (15 pt)\n",
        "tot_reviews = review_df.count()\n",
        "tot_reviews"
      ]
    },
    {
      "cell_type": "code",
      "execution_count": null,
      "metadata": {
        "id": "ZE2HexB25WwX"
      },
      "outputs": [],
      "source": [
        "fivestar_reviews_df = review_df.filter(\"star_rating == 5\")\n",
        "fivestar_totreview = fivestar_reviews_df.count()\n",
        "fivestar_totreview"
      ]
    },
    {
      "cell_type": "code",
      "execution_count": null,
      "metadata": {
        "id": "6_FR_1uq05lV"
      },
      "outputs": [],
      "source": [
        "#the number of 5-star paid reviews\n",
        "fivestar_paid_df = paid_votes_df.filter(\"star_rating == 5\")\n",
        "fivestar_paid_review = fivestar_paid_df.count()\n",
        "fivestar_paid_review"
      ]
    },
    {
      "cell_type": "code",
      "execution_count": null,
      "metadata": {
        "id": "XFT6C2ac5Djf"
      },
      "outputs": [],
      "source": [
        "#the number of 5-star no paid reviews\n",
        "fivestar_nopaid_df = nopaid_votes_df.filter(\"star_rating == 5\")\n",
        "fivestar_nopaid_review = fivestar_nopaid_df.count()\n",
        "fivestar_nopaid_review"
      ]
    },
    {
      "cell_type": "code",
      "execution_count": null,
      "metadata": {
        "id": "BpjbqJbC05ot"
      },
      "outputs": [],
      "source": [
        "paid_per_reviews = fivestar_paid_review / fivestar_totreview\n",
        "paid_per_reviews"
      ]
    },
    {
      "cell_type": "code",
      "execution_count": null,
      "metadata": {
        "id": "KoH3QDek05sE"
      },
      "outputs": [],
      "source": [
        "nopaid_per_reviews = fivestar_nopaid_review / fivestar_totreview\n",
        "nopaid_per_reviews"
      ]
    },
    {
      "cell_type": "code",
      "execution_count": null,
      "metadata": {
        "id": "6j63shw605u8"
      },
      "outputs": [],
      "source": [
        ""
      ]
    }
  ],
  "metadata": {
    "colab": {
      "collapsed_sections": [],
      "name": "Vine_Review_Analysis.ipynb",
      "provenance": []
    },
    "kernelspec": {
      "display_name": "Python 3",
      "name": "python3"
    },
    "language_info": {
      "name": "python"
    }
  },
  "nbformat": 4,
  "nbformat_minor": 0
}